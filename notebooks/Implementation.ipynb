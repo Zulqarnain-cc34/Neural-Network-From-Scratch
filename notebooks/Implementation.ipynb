{
 "cells": [
  {
   "cell_type": "markdown",
   "id": "63bbeabe",
   "metadata": {},
   "source": [
    "## Making A Neural Network in Python"
   ]
  },
  {
   "cell_type": "markdown",
   "id": "2973958b",
   "metadata": {},
   "source": [
    "We Modeled a Neural Network in the previous posts. Now lets make a neural network we have worked out a model for how all the processes are modeled which include\n",
    "- ### Structue\n",
    "- ### BackPropagation\n",
    "- ### Gradient Descent"
   ]
  },
  {
   "cell_type": "code",
   "execution_count": 6,
   "id": "23fee9ea",
   "metadata": {},
   "outputs": [],
   "source": [
    "class Neural_Network:\n",
    "    # intialize the neural network\n",
    "    def __init__(self,inodes,hnodes,onodes,lr):\n",
    "        self.inodes = inodes\n",
    "        self.hnodes = hnodes\n",
    "        self.onodes = onodes\n",
    "        \n",
    "        # learning rate\n",
    "        # We use learning rate to moderate how much each signal should effect the network\n",
    "        self.lr = lr\n",
    "              \n",
    "    # train the neural network\n",
    "    def train(self):\n",
    "        pass\n",
    "    \n",
    "    # Query the neural network    \n",
    "    def query(self,inputs):\n",
    "        pass"
   ]
  },
  {
   "cell_type": "code",
   "execution_count": 7,
   "id": "77f3d019",
   "metadata": {},
   "outputs": [],
   "source": [
    "i_nodes = 3\n",
    "h_nodes = 3\n",
    "o_nodes = 3\n",
    "\n",
    "learning_rate = 0.3"
   ]
  },
  {
   "cell_type": "code",
   "execution_count": 12,
   "id": "7eeccaa8",
   "metadata": {},
   "outputs": [],
   "source": [
    "nn = Neural_Network(i_nodes,h_nodes,o_nodes,learning_rate)"
   ]
  },
  {
   "cell_type": "markdown",
   "id": "7f6c63b4",
   "metadata": {},
   "source": [
    "We will first make a general structure of our neural netework by making a class Neural Network with given amounts of  input, hidden, output nodes and learning rate as parameters. "
   ]
  },
  {
   "cell_type": "markdown",
   "id": "16606b99",
   "metadata": {},
   "source": [
    "#### We will import scipy and get the sigmoid activation function from scipy.special"
   ]
  },
  {
   "cell_type": "code",
   "execution_count": 3,
   "id": "8ec9f1c2",
   "metadata": {},
   "outputs": [],
   "source": [
    "import scipy.special\n",
    "import numpy as np"
   ]
  },
  {
   "cell_type": "code",
   "execution_count": 9,
   "id": "23467308",
   "metadata": {},
   "outputs": [],
   "source": [
    "activation = lambda x:scipy.special.expit(x)"
   ]
  },
  {
   "cell_type": "markdown",
   "id": "a23c056e",
   "metadata": {},
   "source": [
    "We also have to intilize the weights of the input_hidden and hidden_output layers, We are subtracting 0.5 to get values in -ve since neural network should have weights between + 1 and -1 "
   ]
  },
  {
   "cell_type": "code",
   "execution_count": 10,
   "id": "7dcc8151",
   "metadata": {},
   "outputs": [
    {
     "name": "stdout",
     "output_type": "stream",
     "text": [
      "[[-0.34996344 -0.31322347  0.07289378]\n",
      " [ 0.29926373  0.19951762 -0.23887961]\n",
      " [ 0.12863304  0.4357355   0.04768806]]\n",
      "(3, 3)\n",
      "[[ 0.03025737  0.30678867 -0.20588533]\n",
      " [-0.06332789  0.07617471  0.34011758]\n",
      " [-0.45037221 -0.4314841  -0.07300812]]\n",
      "(3, 3)\n"
     ]
    }
   ],
   "source": [
    "# Weights from input to hidden\n",
    "weights_input_hidden  = np.random.rand(i_nodes,h_nodes) - 0.5\n",
    "print(weights_input_hidden)\n",
    "print(weights_input_hidden.shape)\n",
    "\n",
    "# Weights from hidden to output \n",
    "weights_hidden_output = np.random.rand(h_nodes,o_nodes) - 0.5\n",
    "print(weights_hidden_output)\n",
    "print(weights_hidden_output.shape)"
   ]
  },
  {
   "cell_type": "markdown",
   "id": "be71cc69",
   "metadata": {},
   "source": [
    "Just like we defined earlier the dimensions of the connections of weights is alright."
   ]
  },
  {
   "cell_type": "markdown",
   "id": "aa221810",
   "metadata": {},
   "source": [
    "#### Our Class now looks something like this"
   ]
  },
  {
   "cell_type": "code",
   "execution_count": 11,
   "id": "fef6c9aa",
   "metadata": {},
   "outputs": [],
   "source": [
    "class Neural_Network:\n",
    "    # intialize the neural network\n",
    "    def __init__(self,inodes,hnodes,onodes,lr):\n",
    "        self.inodes = inodes\n",
    "        self.hnodes = hnodes\n",
    "        self.onodes = onodes\n",
    "        \n",
    "        # learning rate\n",
    "        # We use learning rate to moderate how much each signal should effect the network\n",
    "        self.lr = lr\n",
    "        \n",
    "        # Weights from input to hidden\n",
    "        self.weights_input_hidden  = np.random.rand(self.inodes,self.hnodes) - 0.5\n",
    "        # Weights from hidden to output \n",
    "        self.weights_hidden_output = np.random.rand(self.hnodes,self.onodes) - 0.5 \n",
    " \n",
    "        # Our Sigmoid activation function\n",
    "        self.activation = lambda x:scipy.special.expit(x)\n",
    "              \n",
    "    # train the neural network\n",
    "    def train(self):\n",
    "        pass\n",
    "    \n",
    "    # Query the neural network    \n",
    "    def query(self,inputs):\n",
    "        pass"
   ]
  },
  {
   "cell_type": "markdown",
   "id": "c49e6972",
   "metadata": {},
   "source": [
    "#### Now we can go to the train function but first lets query the results and see how we can give inputs and use the weights to predict the output."
   ]
  },
  {
   "cell_type": "markdown",
   "id": "a1118d06",
   "metadata": {},
   "source": [
    "The query() function takes the input to a neural network and returns the network's output. That's simple enough, but to do that you'll remember that we need to pass the input signals from the input layer of nodes, through the hidden layer and out of the final output layer. You'll also remember that we use the link weights to moderate the signals as they feed into any given hidden or output node, and we also use the sigmoid activation function to squish the signal coming out of those nodes.\n",
    "\n",
    "The following shows how the link weights between hidden and input are used to input the hidden layer."
   ]
  },
  {
   "cell_type": "markdown",
   "id": "fde0003b",
   "metadata": {},
   "source": [
    "                       X_hidden = W_hidden_input.I"
   ]
  },
  {
   "cell_type": "code",
   "execution_count": 13,
   "id": "0bf73e06",
   "metadata": {
    "collapsed": true
   },
   "outputs": [
    {
     "ename": "NameError",
     "evalue": "name 'inputs' is not defined",
     "output_type": "error",
     "traceback": [
      "\u001b[0;31m---------------------------------------------------------------------------\u001b[0m",
      "\u001b[0;31mNameError\u001b[0m                                 Traceback (most recent call last)",
      "Input \u001b[0;32mIn [13]\u001b[0m, in \u001b[0;36m<cell line: 1>\u001b[0;34m()\u001b[0m\n\u001b[0;32m----> 1\u001b[0m hidden_inputs \u001b[38;5;241m=\u001b[39m np\u001b[38;5;241m.\u001b[39mdot(weights_input_hidden,\u001b[43minputs\u001b[49m)\n",
      "\u001b[0;31mNameError\u001b[0m: name 'inputs' is not defined"
     ]
    }
   ],
   "source": [
    "hidden_inputs = np.dot(weights_input_hidden,inputs)"
   ]
  },
  {
   "cell_type": "markdown",
   "id": "db0cfc54",
   "metadata": {},
   "source": [
    "Its then passed on the sigmoid function.\n",
    "\n",
    "                      O_hidden=sigmoid(X_hidden)"
   ]
  },
  {
   "cell_type": "code",
   "execution_count": 15,
   "id": "93a78813",
   "metadata": {
    "collapsed": true
   },
   "outputs": [
    {
     "ename": "NameError",
     "evalue": "name 'hidden_inputs' is not defined",
     "output_type": "error",
     "traceback": [
      "\u001b[0;31m---------------------------------------------------------------------------\u001b[0m",
      "\u001b[0;31mNameError\u001b[0m                                 Traceback (most recent call last)",
      "Input \u001b[0;32mIn [15]\u001b[0m, in \u001b[0;36m<cell line: 1>\u001b[0;34m()\u001b[0m\n\u001b[0;32m----> 1\u001b[0m hidden_outputs \u001b[38;5;241m=\u001b[39m activation(\u001b[43mhidden_inputs\u001b[49m)\n",
      "\u001b[0;31mNameError\u001b[0m: name 'hidden_inputs' is not defined"
     ]
    }
   ],
   "source": [
    "hidden_outputs = activation(hidden_inputs)"
   ]
  },
  {
   "cell_type": "markdown",
   "id": "fb8853dd",
   "metadata": {},
   "source": [
    "Now we need to do the same for the hidden_output weights and input from hidden layer which is moderated by the sigmoid function. Now the Code look something like this, we have completed our query function."
   ]
  },
  {
   "cell_type": "code",
   "execution_count": 29,
   "id": "780028a7",
   "metadata": {},
   "outputs": [],
   "source": [
    "import numpy as np\n",
    "\n",
    "class Neural_Network:\n",
    "    # intialize the neural network\n",
    "    def __init__(self,inodes,hnodes,onodes,lr):\n",
    "        self.inodes = inodes\n",
    "        self.hnodes = hnodes\n",
    "        self.onodes = onodes\n",
    "        \n",
    "        # learning rate\n",
    "        # We use learning rate to moderate how much each signal should effect the network\n",
    "        self.lr = lr\n",
    "        \n",
    "        # Weights from input to hidden\n",
    "        self.weights_input_hidden  = np.random.rand(self.inodes,self.hnodes) - 0.5\n",
    "        # Weights from hidden to output \n",
    "        self.weights_hidden_output = np.random.rand(self.hnodes,self.onodes) - 0.5 \n",
    " \n",
    "        # Our Sigmoid activation function\n",
    "        self.activation = lambda x:scipy.special.expit(x)\n",
    "        \n",
    "    # train the neural network\n",
    "    def train(self):\n",
    "        pass\n",
    "    \n",
    "    # Query the neural network    \n",
    "    def query(self,inputs):\n",
    "        # Calculate signal into the hidden layer\n",
    "        hidden_inputs = np.dot(self.weights_input_hidden, inputs)\n",
    "        # Moderate the output using activation function and output the signal\n",
    "        hidden_outputs = self.activation(hidden_inputs)\n",
    "        \n",
    "        # Calculate signal into the final output layer\n",
    "        final_inputs = np.dot(self.weights_hidden_output, hidden_outputs)\n",
    "        # Moderate the output using activation function and output the signal\n",
    "        final_outputs = self.activation(final_inputs)\n",
    "        return final_outputs "
   ]
  },
  {
   "cell_type": "markdown",
   "id": "4b52529f",
   "metadata": {},
   "source": [
    "### Training the Network\n",
    "Let's now tackle the slightly more involved training task. There are two parts to this:\n",
    "\n",
    "- ##### The first part is working out the output for a given training example. That is no different to what we just did with the query() function.\n",
    "\n",
    "- ##### The second part is taking this calculated output, comparing it with the desired output, and using the difference to guide the updating of the network weights.\n",
    "\n",
    "We've already done the first part so let's write that out:"
   ]
  },
  {
   "cell_type": "code",
   "execution_count": 29,
   "id": "5e258fd5",
   "metadata": {},
   "outputs": [],
   "source": [
    "# train the neural network \n",
    "def train (self, inputs_list, targets_list):\n",
    "    # convert inputs list to 2d array \n",
    "    inputs = numpy.array (inputs_list, ndmin=2).T\n",
    "    targets = numpy.array (targets_list, ndmin=2).T\n",
    "    \n",
    "    # calculate signals into hidden layer \n",
    "    hidden_inputs = numpy.dot (self.weights_input_hidden, inputs) # calculate the signals emerging from hidden layer \n",
    "    hidden_outputs = self.activation(hidden_inputs)\n",
    "    \n",
    "    # calculate signals into final output layer \n",
    "    final_inputs = numpy.dot(self.weights_hidden_output, hidden_outputs) # calculate the signals emerging from final output layer \n",
    "    final_outputs = self.activation(final_inputs)\n",
    "    \n",
    "    pass"
   ]
  },
  {
   "cell_type": "markdown",
   "id": "d3b3418b",
   "metadata": {},
   "source": [
    "The code also turns the targets list into a numpy array, just as the inputs list is turned into a numpy array."
   ]
  },
  {
   "cell_type": "code",
   "execution_count": 18,
   "id": "b63c24d3",
   "metadata": {
    "collapsed": true
   },
   "outputs": [
    {
     "ename": "SyntaxError",
     "evalue": "invalid syntax (999015782.py, line 1)",
     "output_type": "error",
     "traceback": [
      "\u001b[0;36m  Input \u001b[0;32mIn [18]\u001b[0;36m\u001b[0m\n\u001b[0;31m    targets = numpy.array (targets list, ndmin=2).T\u001b[0m\n\u001b[0m                                   ^\u001b[0m\n\u001b[0;31mSyntaxError\u001b[0m\u001b[0;31m:\u001b[0m invalid syntax\n"
     ]
    }
   ],
   "source": [
    "targets = numpy.array (targets list, ndmin=2).T"
   ]
  },
  {
   "cell_type": "markdown",
   "id": "eda28a12",
   "metadata": {},
   "source": [
    "Now we're getting closer to the heart of the neural network's working, improving the weights based on the error between the calculated and target output.\n",
    "\n",
    "Let's do this in gentle manageable steps.\n",
    "\n",
    "First we need to calculate the error, which is the difference between the desired target output provided by the training example, and the actual calculated output. That's the difference between the matrices (targets - final_outputs) done element by element. The Python code for this is really simple, showing again the elegant power of matrices."
   ]
  },
  {
   "cell_type": "code",
   "execution_count": 19,
   "id": "4ffa6ba5",
   "metadata": {
    "collapsed": true
   },
   "outputs": [
    {
     "ename": "NameError",
     "evalue": "name 'target' is not defined",
     "output_type": "error",
     "traceback": [
      "\u001b[0;31m---------------------------------------------------------------------------\u001b[0m",
      "\u001b[0;31mNameError\u001b[0m                                 Traceback (most recent call last)",
      "Input \u001b[0;32mIn [19]\u001b[0m, in \u001b[0;36m<cell line: 1>\u001b[0;34m()\u001b[0m\n\u001b[0;32m----> 1\u001b[0m output_errors \u001b[38;5;241m=\u001b[39m \u001b[43mtarget\u001b[49m \u001b[38;5;241m-\u001b[39m final_outputs\n",
      "\u001b[0;31mNameError\u001b[0m: name 'target' is not defined"
     ]
    }
   ],
   "source": [
    "output_errors = target - final_outputs"
   ]
  },
  {
   "cell_type": "markdown",
   "id": "e816d39f",
   "metadata": {},
   "source": [
    "We can calculate the back-propagated errors for the hidden layer nodes. Remember how we split the errors according to the connected weights, and recombine them for each hidden layer node. We worked out the matrix form of this calculation as"
   ]
  },
  {
   "attachments": {
    "DeepinScreenshot_select-area_20220913060954.png": {
     "image/png": "[encoded data removed]"
    }
   },
   "cell_type": "markdown",
   "id": "bea4482f",
   "metadata": {},
   "source": [
    "![DeepinScreenshot_select-area_20220913060954.png](attachment:DeepinScreenshot_select-area_20220913060954.png)"
   ]
  },
  {
   "cell_type": "markdown",
   "id": "52e65959",
   "metadata": {},
   "source": [
    "Lets look at the code for this in python."
   ]
  },
  {
   "cell_type": "code",
   "execution_count": 21,
   "id": "00e8e5b4",
   "metadata": {
    "collapsed": true
   },
   "outputs": [
    {
     "ename": "SyntaxError",
     "evalue": "invalid syntax (2858053769.py, line 2)",
     "output_type": "error",
     "traceback": [
      "\u001b[0;36m  Input \u001b[0;32mIn [21]\u001b[0;36m\u001b[0m\n\u001b[0;31m    hidden_errors = numpy.dot(self.weights_hidden_output.T, output errors)\u001b[0m\n\u001b[0m                                                                   ^\u001b[0m\n\u001b[0;31mSyntaxError\u001b[0m\u001b[0;31m:\u001b[0m invalid syntax\n"
     ]
    }
   ],
   "source": [
    "# hidden layer error is the output_errors, split by weights, recombined at hidden nodes \n",
    "hidden_errors = numpy.dot(self.weights_hidden_output.T, output errors)"
   ]
  },
  {
   "cell_type": "markdown",
   "id": "940477f7",
   "metadata": {},
   "source": [
    "We can use this expression to update the weights"
   ]
  },
  {
   "attachments": {
    "DeepinScreenshot_select-area_20220913061333.png": {
     "image/png": "[encoded data removed]"
    }
   },
   "cell_type": "markdown",
   "id": "123e7822",
   "metadata": {},
   "source": [
    "![DeepinScreenshot_select-area_20220913061333.png](attachment:DeepinScreenshot_select-area_20220913061333.png)"
   ]
  },
  {
   "cell_type": "code",
   "execution_count": null,
   "id": "7c37b48f",
   "metadata": {},
   "outputs": [],
   "source": [
    "# update the weights for the links between the hidden and output layers \n",
    "self.weights_hidden_output += self.lr * numpy.dot ((output errors * final outputs * (1.0 - final_outputs)),\n",
    "                                                   / numpy.transpose(hidden_outputs))\n",
    "# update the weights for the links between the input and hidden layers\n",
    "self.weights_input_hidden  += self.lr * numpy.dot ((hidden_errors * hidden_outputs * (1.0 - hidden_outputs)),\n",
    "                                                   / numpy.transpose(inputs))."
   ]
  },
  {
   "cell_type": "markdown",
   "id": "c58387c4",
   "metadata": {},
   "source": [
    "Thats it here we have our updated Code.Next we will look into using the mnist dataset on this neural network."
   ]
  },
  {
   "cell_type": "code",
   "execution_count": 27,
   "id": "df283b22",
   "metadata": {},
   "outputs": [],
   "source": [
    "\n",
    "class Neural_Network:\n",
    "    # intialize the neural network\n",
    "    def __init__(self,inodes,hnodes,onodes,lr):\n",
    "        self.inodes = inodes\n",
    "        self.hnodes = hnodes\n",
    "        self.onodes = onodes\n",
    "        \n",
    "        # learning rate\n",
    "        # We use learning rate to moderate how much each signal should effect the network\n",
    "        self.lr = lr\n",
    "        \n",
    "        # Weights from input to hidden\n",
    "        self.weights_input_hidden  = np.random.rand(self.inodes,self.hnodes) - 0.5\n",
    "        # Weights from hidden to output \n",
    "        self.weights_hidden_output = np.random.rand(self.hnodes,self.onodes) - 0.5 \n",
    " \n",
    "        # Our Sigmoid activation function\n",
    "        self.activation = lambda x:scipy.special.expit(x)\n",
    "        \n",
    "     # train the neural network \n",
    "    def train (self, inputs_list, targets_list):\n",
    "        # convert inputs list to 2d array \n",
    "        inputs = numpy.array (inputs_list, ndmin=2).T\n",
    "        targets = numpy.array (targets_list, ndmin=2). T\n",
    "\n",
    "        # calculate signals into hidden layer \n",
    "        hidden_inputs = numpy.dot (self.weights_input_hidden, inputs) # calculate the signals emerging from hidden layer \n",
    "        hidden_outputs = self.activation(hidden_outputs)\n",
    "\n",
    "        # calculate signals into final output layer \n",
    "        final_inputs = numpy.dot (self.weights_hidden_output, hidden_outputs) # calculate the signals emerging from final output layer \n",
    "        final_outputs = self.activation(final_inputs)\n",
    "        \n",
    "        # output layer error is the (target - actual) \n",
    "        output_errors = targets - final_outputs\n",
    "        # hidden layer error is the output errors, split by weights, recombined at hidden nodes\n",
    "        hidden_errors = np.dot (self.weights_hidden_output.T, output_errors)\n",
    "        # update the weights for the links between the hidden and output layers\n",
    "        self.weights_hidden_output += self.lr * np.dot((output_errors * final_outputs * (1.0 - final_outputs)), numpy.transpose (hidden_outputs) )\n",
    "        # update the weights for the links between the input and hidden layers\n",
    "        self.weights_input_hidden += self.lr * np.dot((hidden_errors * hidden_outputs * (1.0 - hidden_outputs)), numpy.transpose (inputs))\n",
    "        pass\n",
    "    \n",
    "    # Query the neural network    \n",
    "    def query(self,inputs):\n",
    "        # Calculate signal into the hidden layer\n",
    "        hidden_inputs = np.dot(self.weights_input_hidden, inputs)\n",
    "        # Moderate the output using activation function and output the signal\n",
    "        hidden_outputs = self.activation(hidden_inputs)\n",
    "        \n",
    "        # Calculate signal into the final output layer\n",
    "        final_inputs = np.dot(self.weights_hidden_output, hidden_outputs)\n",
    "        # Moderate the output using activation function and output the signal\n",
    "        final_outputs = self.activation(final_inputs)\n",
    "        return final_outputs \n",
    "\n"
   ]
  },
  {
   "cell_type": "code",
   "execution_count": 34,
   "id": "a27f663a",
   "metadata": {
    "scrolled": true
   },
   "outputs": [],
   "source": [
    "nn = Neural_Network(i_nodes,h_nodes,o_nodes,learning_rate)"
   ]
  },
  {
   "cell_type": "code",
   "execution_count": 35,
   "id": "c9f54b45",
   "metadata": {},
   "outputs": [
    {
     "data": {
      "text/plain": [
       "array([0.46882802, 0.5797888 , 0.13216093])"
      ]
     },
     "execution_count": 35,
     "metadata": {},
     "output_type": "execute_result"
    }
   ],
   "source": [
    "nn.query([1.1,-2,-3])"
   ]
  }
 ],
 "metadata": {
  "kernelspec": {
   "display_name": "Python 3 (ipykernel)",
   "language": "python",
   "name": "python3"
  },
  "language_info": {
   "codemirror_mode": {
    "name": "ipython",
    "version": 3
   },
   "file_extension": ".py",
   "mimetype": "text/x-python",
   "name": "python",
   "nbconvert_exporter": "python",
   "pygments_lexer": "ipython3",
   "version": "3.9.12"
  }
 },
 "nbformat": 4,
 "nbformat_minor": 5
}
